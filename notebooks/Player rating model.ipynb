{
 "cells": [
  {
   "cell_type": "markdown",
   "id": "bbd26f24",
   "metadata": {},
   "source": [
    "# Player rating model"
   ]
  },
  {
   "cell_type": "code",
   "execution_count": 1,
   "id": "0f2a449a",
   "metadata": {},
   "outputs": [],
   "source": [
    "import pandas as pd\n",
    "import numpy as np\n",
    "import matplotlib.pyplot as plt\n",
    "import seaborn as sns"
   ]
  },
  {
   "cell_type": "code",
   "execution_count": 2,
   "id": "a29de8c1",
   "metadata": {},
   "outputs": [],
   "source": [
    "df=pd.read_csv('../datasets/players_data_light-2024_2025.csv')"
   ]
  },
  {
   "cell_type": "code",
   "execution_count": 3,
   "id": "4f3ee7af",
   "metadata": {},
   "outputs": [],
   "source": [
    "from sklearn.model_selection import train_test_split\n",
    "from sklearn.ensemble import RandomForestRegressor\n",
    "from sklearn.preprocessing import StandardScaler\n",
    "from sklearn.pipeline import Pipeline\n",
    "import joblib\n",
    "fw_df = df[df['Pos'] == 'FW'].copy()\n",
    "\n",
    "# Features for Forwards\n",
    "features = [\n",
    "    'Gls', 'xG', 'Ast', 'xAG', 'KP',\n",
    "    'PrgC', 'Touches', 'Carries', 'PrgR'\n",
    "]\n",
    "fw_df = fw_df.dropna(subset=features)\n",
    "\n",
    "X = fw_df[features]\n",
    "\n",
    "#synthetic target variable (e.g., G+A + xG + xAG weighted)\n",
    "\n",
    "fw_df['rating_target'] = (\n",
    "    0.4 * fw_df['Gls'] +\n",
    "    0.3 * fw_df['xG'] +\n",
    "    0.1 * fw_df['Ast'] +\n",
    "    0.1 * fw_df['xAG'] +\n",
    "    0.1 * fw_df['KP']\n",
    ")\n",
    "\n",
    "y = fw_df['rating_target']\n",
    "\n",
    "# Train/Test split\n",
    "X_train, X_test, y_train, y_test = train_test_split(X, y, test_size=0.2, random_state=42)\n"
   ]
  },
  {
   "cell_type": "code",
   "execution_count": 4,
   "id": "0dc65016",
   "metadata": {},
   "outputs": [],
   "source": [
    "pipeline = Pipeline([\n",
    "    ('scaler', StandardScaler()),\n",
    "    ('model', RandomForestRegressor(n_estimators=100, random_state=42))\n",
    "])\n",
    "\n",
    "pipeline.fit(X_train, y_train)\n",
    "\n",
    "# Predict\n",
    "fw_df['predicted_rating'] = pipeline.predict(X)"
   ]
  },
  {
   "cell_type": "code",
   "execution_count": 5,
   "id": "06fc0fe0",
   "metadata": {},
   "outputs": [
    {
     "name": "stdout",
     "output_type": "stream",
     "text": [
      "                  Player            Squad  Gls  Ast  predicted_rating\n",
      "2243       Mohamed Salah        Liverpool   27   17           23.9664\n",
      "1652       Kylian Mbappé      Real Madrid   22    3           19.6658\n",
      "1449  Robert Lewandowski        Barcelona   25    2           19.2912\n",
      "1287          Harry Kane    Bayern Munich   23    8           18.3440\n",
      "1083      Erling Haaland  Manchester City   21    3           18.1209\n",
      "1191      Alexander Isak    Newcastle Utd   20    5           16.8124\n",
      "683      Ousmane Dembélé        Paris S-G   21    5           16.1905\n",
      "2145       Mateo Retegui         Atalanta   22    4           15.7753\n",
      "1654        Bryan Mbeumo        Brentford   16    5           15.0171\n",
      "1299          Moise Kean       Fiorentina   17    3           14.5248\n"
     ]
    },
    {
     "data": {
      "text/plain": [
       "['../models/fw_rating_model.pkl']"
      ]
     },
     "execution_count": 5,
     "metadata": {},
     "output_type": "execute_result"
    }
   ],
   "source": [
    "#  Top 10 forwards\n",
    "top_fw = fw_df[['Player', 'Squad', 'Gls', 'Ast', 'predicted_rating']].sort_values(by='predicted_rating', ascending=False)\n",
    "print(top_fw.head(10))\n",
    "\n",
    "#model\n",
    "joblib.dump(pipeline, \"../models/fw_rating_model.pkl\")"
   ]
  },
  {
   "cell_type": "code",
   "execution_count": 6,
   "id": "5aea1f66",
   "metadata": {},
   "outputs": [
    {
     "name": "stdout",
     "output_type": "stream",
     "text": [
      "                  Player            Squad  Gls  Ast  predicted_rating  \\\n",
      "2243       Mohamed Salah        Liverpool   27   17           23.9664   \n",
      "1652       Kylian Mbappé      Real Madrid   22    3           19.6658   \n",
      "1449  Robert Lewandowski        Barcelona   25    2           19.2912   \n",
      "1287          Harry Kane    Bayern Munich   23    8           18.3440   \n",
      "1083      Erling Haaland  Manchester City   21    3           18.1209   \n",
      "1191      Alexander Isak    Newcastle Utd   20    5           16.8124   \n",
      "683      Ousmane Dembélé        Paris S-G   21    5           16.1905   \n",
      "2145       Mateo Retegui         Atalanta   22    4           15.7753   \n",
      "1654        Bryan Mbeumo        Brentford   16    5           15.0171   \n",
      "1299          Moise Kean       Fiorentina   17    3           14.5248   \n",
      "\n",
      "      rating_target  \n",
      "2243          27.38  \n",
      "1652          19.82  \n",
      "1449          19.53  \n",
      "1287          18.70  \n",
      "1083          17.82  \n",
      "1191          17.31  \n",
      "683           19.57  \n",
      "2145          16.54  \n",
      "1654          16.10  \n",
      "1299          13.56  \n"
     ]
    }
   ],
   "source": [
    "top_fw = fw_df[['Player', 'Squad', 'Gls', 'Ast', 'predicted_rating','rating_target']].sort_values(by='predicted_rating', ascending=False)\n",
    "print(top_fw.head(10))"
   ]
  }
 ],
 "metadata": {
  "kernelspec": {
   "display_name": "Python (Comp_ling)",
   "language": "python",
   "name": "comp_ling"
  },
  "language_info": {
   "codemirror_mode": {
    "name": "ipython",
    "version": 3
   },
   "file_extension": ".py",
   "mimetype": "text/x-python",
   "name": "python",
   "nbconvert_exporter": "python",
   "pygments_lexer": "ipython3",
   "version": "3.10.7"
  }
 },
 "nbformat": 4,
 "nbformat_minor": 5
}
